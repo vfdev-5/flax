{
 "cells": [
  {
   "cell_type": "code",
   "execution_count": 1,
   "id": "9b2b929d",
   "metadata": {},
   "outputs": [],
   "source": [
    "from flax import nnx\n",
    "import jax\n",
    "import jax.numpy as jnp\n",
    "import dataclasses\n",
    "\n",
    "#----------------------\n",
    "# helper functions\n",
    "#----------------------\n",
    "def pytree_structure(pytree, title='pytree structure'):\n",
    "  print(f\"{title}:\")\n",
    "  for path, value in jax.tree.leaves_with_path(pytree):\n",
    "    print(f\"- pytree{jax.tree_util.keystr(path)} = {value!r}\")"
   ]
  },
  {
   "cell_type": "markdown",
   "id": "d603fa09",
   "metadata": {},
   "source": [
    "## Pytree"
   ]
  },
  {
   "cell_type": "code",
   "execution_count": 2,
   "id": "95016a94",
   "metadata": {},
   "outputs": [
    {
     "name": "stdout",
     "output_type": "stream",
     "text": [
      "pytree structure:\n",
      "- pytree.layers[0].b = Array([0.], dtype=float32)\n",
      "- pytree.layers[0].w = Array([[1.]], dtype=float32)\n",
      "- pytree.layers[1].b = Array([0.], dtype=float32)\n",
      "- pytree.layers[1].w = Array([[1.]], dtype=float32)\n"
     ]
    }
   ],
   "source": [
    "class Linear(nnx.Pytree):\n",
    "  def __init__(self, din: int, dout: int):\n",
    "    self.din, self.dout = din, dout\n",
    "    self.w = jnp.ones((din, dout))\n",
    "    self.b = jnp.zeros((dout,))\n",
    "\n",
    "class MLP(nnx.Pytree):\n",
    "  def __init__(self, num_layers, dim):\n",
    "    self.num_layers = num_layers\n",
    "    self.layers = nnx.List([Linear(dim, dim) for _ in range(num_layers)])\n",
    "\n",
    "pytree = MLP(num_layers=2, dim=1)\n",
    "pytree_structure(pytree)"
   ]
  },
  {
   "cell_type": "markdown",
   "id": "83032d9f",
   "metadata": {},
   "source": [
    "### Attribute Annotations"
   ]
  },
  {
   "cell_type": "code",
   "execution_count": 3,
   "id": "4ff9789a",
   "metadata": {},
   "outputs": [
    {
     "name": "stdout",
     "output_type": "stream",
     "text": [
      "pytree structure:\n",
      "- pytree.ls[0].i = 0\n",
      "- pytree.ls[0].x = Array(0, dtype=int32, weak_type=True)\n",
      "- pytree.ls[1].i = 1\n",
      "- pytree.ls[1].x = Array(42, dtype=int32, weak_type=True)\n"
     ]
    }
   ],
   "source": [
    "class Foo(nnx.Pytree):\n",
    "  def __init__(self, i: int):\n",
    "    self.i = nnx.data(i)  # explicit data\n",
    "    self.f = nnx.static(i * 0.5)  # explicit static\n",
    "    self.x = jnp.array(42 * i)  # arrays are data\n",
    "    self.s = \"Hi\" + \"!\" * i  # strings are static\n",
    "    self.h = hash(i)  # weak types are static\n",
    "    self.u = None  # empty pytrees are static\n",
    "\n",
    "class Bar(nnx.Pytree):\n",
    "  def __init__(self):\n",
    "    self.ls = nnx.List([Foo(i) for i in range(2)])  # nnx.Pytrees are data\n",
    "    self.shapes = (8, 16, 32)  # common pytrees are static\n",
    "\n",
    "pytree = Bar()\n",
    "pytree_structure(pytree)"
   ]
  },
  {
   "cell_type": "code",
   "execution_count": 9,
   "id": "27682936",
   "metadata": {},
   "outputs": [
    {
     "name": "stdout",
     "output_type": "stream",
     "text": [
      "\n",
      "# ------ DATA ------------\n",
      "nnx.is_data( jnp.array(0) ) = True                   # Arrays are data\n",
      "nnx.is_data( nnx.Param(1) ) = True                   # Variables are data\n",
      "nnx.is_data( nnx.Rngs(2) ) = True                    # nnx.Pytrees are data\n",
      "\n",
      "# ------ STATIC ------------\n",
      "nnx.is_data( 'hello' ) = False                       # strings, arbitrary objects\n",
      "nnx.is_data( 42 ) = False                            # int, float, bool, complex, etc.\n",
      "nnx.is_data( [1, 2.0, 3j, jnp.array(1)] ) = False    # list, dict, tuple, pytrees\n",
      "\n"
     ]
    }
   ],
   "source": [
    "print(f\"\"\"\n",
    "# ------ DATA ------------\n",
    "{nnx.is_data( jnp.array(0) ) = }                   # Arrays are data\n",
    "{nnx.is_data( nnx.Param(1) ) = }                   # Variables are data\n",
    "{nnx.is_data( nnx.Rngs(2) ) = }                    # nnx.Pytrees are data\n",
    "\n",
    "# ------ STATIC ------------\n",
    "{nnx.is_data( 'hello' ) = }                       # strings, arbitrary objects\n",
    "{nnx.is_data( 42 ) = }                            # int, float, bool, complex, etc.\n",
    "{nnx.is_data( [1, 2.0, 3j, jnp.array(1)] ) = }    # list, dict, tuple, pytrees\n",
    "\"\"\")"
   ]
  },
  {
   "cell_type": "markdown",
   "id": "ce86873a",
   "metadata": {},
   "source": [
    "* remove mixed\n",
    "* error on nnx.data/nnx.static in pytrees"
   ]
  },
  {
   "cell_type": "markdown",
   "id": "8055b72c",
   "metadata": {},
   "source": [
    "### Class Annotations"
   ]
  },
  {
   "cell_type": "code",
   "execution_count": null,
   "id": "9ca77d65",
   "metadata": {},
   "outputs": [
    {
     "name": "stdout",
     "output_type": "stream",
     "text": [
      "pytree structure:\n",
      "- pytree.ls[0].i = 0\n",
      "- pytree.ls[0].x = Array(0, dtype=int32, weak_type=True)\n",
      "- pytree.ls[1].i = 1\n",
      "- pytree.ls[1].x = Array(42, dtype=int32, weak_type=True)\n"
     ]
    }
   ],
   "source": [
    "@dataclasses.dataclass\n",
    "class Foo(nnx.Pytree):\n",
    "  i: nnx.Data[int]\n",
    "  s: nnx.Static[str]\n",
    "  x: jax.Array\n",
    "  a: int\n",
    "\n",
    "@dataclasses.dataclass\n",
    "class Bar(nnx.Pytree):\n",
    "  ls: nnx.Data[list[Foo]]\n",
    "  shapes: list[int]\n",
    "\n",
    "pytree = Bar(\n",
    "  ls=[Foo(i, \"Hi\" + \"!\" * i, jnp.array(42 * i), hash(i)) for i in range(2)],\n",
    "  shapes=[8, 16, 32]\n",
    ")\n",
    "pytree_structure(pytree)"
   ]
  },
  {
   "cell_type": "markdown",
   "id": "5ab06e79",
   "metadata": {},
   "source": [
    "#### When to use explicit annotations?"
   ]
  },
  {
   "cell_type": "code",
   "execution_count": null,
   "id": "9e064461",
   "metadata": {},
   "outputs": [
    {
     "name": "stdout",
     "output_type": "stream",
     "text": [
      "pytree structure:\n",
      "- pytree.bias.value = Array(0., dtype=float32, weak_type=True)\n",
      "- pytree.ls[0] = Array(0, dtype=int32, weak_type=True)\n",
      "- pytree.ls[1] = Array(1, dtype=int32, weak_type=True)\n",
      "- pytree.ls[2] = Array(2, dtype=int32, weak_type=True)\n",
      "- pytree.x = 1.0\n",
      "- pytree.y = 42\n"
     ]
    }
   ],
   "source": [
    "class Bar(nnx.Pytree):\n",
    "  def __init__(self, x, use_bias: bool):\n",
    "    self.x = nnx.data(x)  # constrain inputs (e.g. user could pass Array or ShapeDtypeStruct)\n",
    "    self.y = nnx.data(42)  # force undefined types\n",
    "    self.ls = nnx.data([jnp.array(i) for i in range(3)]) # on pytrees\n",
    "    if use_bias:\n",
    "      self.bias = nnx.Param(jnp.array(0.0))\n",
    "    else:\n",
    "      self.bias = nnx.data(None)  # on branches that cause mismatch\n",
    "\n",
    "pytree = Bar(1.0, True)\n",
    "pytree_structure(pytree)"
   ]
  },
  {
   "cell_type": "markdown",
   "id": "d6036a0e",
   "metadata": {},
   "source": [
    "### Attribute Updates"
   ]
  },
  {
   "cell_type": "code",
   "execution_count": null,
   "id": "509a517e",
   "metadata": {},
   "outputs": [
    {
     "name": "stdout",
     "output_type": "stream",
     "text": [
      "original:\n",
      "- pytree.a = Array(1., dtype=float32, weak_type=True)\n",
      "- pytree.c = 3.14\n",
      "updated:\n",
      "- pytree.a = '🤔'\n",
      "- pytree.b = 42\n"
     ]
    }
   ],
   "source": [
    "class Foo(nnx.Pytree):\n",
    "  def __init__(self):\n",
    "    self.a = jnp.array(1.0)  # data\n",
    "    self.b = \"Hello, world!\"               # static\n",
    "    self.c = nnx.data(3.14)         # data\n",
    "\n",
    "pytree = Foo()\n",
    "pytree_structure(pytree, \"original\")\n",
    "\n",
    "pytree.a = \"🤔\"  # static values don't change status on data attributes\n",
    "pytree.b = nnx.data(42)     # annotation to override status\n",
    "pytree.c = nnx.static(0.5)  # annotation to override status\n",
    "pytree_structure(pytree, \"updated\")"
   ]
  },
  {
   "cell_type": "markdown",
   "id": "17fd41f5",
   "metadata": {},
   "source": [
    "### Attribute checks"
   ]
  },
  {
   "cell_type": "code",
   "execution_count": null,
   "id": "98e04ff9",
   "metadata": {},
   "outputs": [
    {
     "name": "stdout",
     "output_type": "stream",
     "text": [
      "ValueError: Found Arrays in value annotated with nnx.static(...) when setting attribute 'name'.\n"
     ]
    }
   ],
   "source": [
    "class Foo(nnx.Pytree):\n",
    "  def __init__(self, name):\n",
    "    self.name = nnx.static(name)\n",
    "\n",
    "try:\n",
    "  foo = Foo(name=jnp.array(123))\n",
    "except ValueError as e:\n",
    "  print(\"ValueError:\", e)"
   ]
  },
  {
   "cell_type": "code",
   "execution_count": null,
   "id": "c864d5b1",
   "metadata": {},
   "outputs": [
    {
     "name": "stdout",
     "output_type": "stream",
     "text": [
      "ValueError: Cannot assign 'data' value to 'static' attribute 'name'. To override the status explicitly annotate the value on assignment:\n",
      "\n",
      "  _.name = nnx.data(...)\n",
      "\n"
     ]
    }
   ],
   "source": [
    "try:\n",
    "  foo = Foo(name=\"mattjj\")\n",
    "  foo.name = jnp.array(123)\n",
    "except ValueError as e:\n",
    "  print(\"ValueError:\", e)"
   ]
  },
  {
   "cell_type": "markdown",
   "id": "c3b17f07",
   "metadata": {},
   "source": [
    "* `nnx.check_pytree`"
   ]
  },
  {
   "cell_type": "code",
   "execution_count": null,
   "id": "628698dd",
   "metadata": {},
   "outputs": [
    {
     "name": "stdout",
     "output_type": "stream",
     "text": [
      "ValueError: Found unexpected Arrays on static attribute 'ls' after __init__, this is an error starting from Flax version 0.11.2.\n",
      "Consider one of the following options:\n",
      "\n",
      "1. If the attribute is meant to be static, either remove the Array value or wrap it in a static container.\n",
      "2. Annotate the value with nnx.data on assignment:\n",
      "\n",
      "  _.ls = nnx.data(...)\n",
      "\n",
      "3. Annotate the class attribute with nnx.Data:\n",
      "\n",
      "  class Foo(Pytree):\n",
      "    ls: nnx.Data[list]\n",
      "\n",
      "4. If the container is a list or dict, try using nnx.List(...) or nnx.Dict(...) instead.\n",
      "5. Disable pytree for this class:\n",
      "\n",
      "  class Foo(Pytree, pytree=False):\n",
      "\n"
     ]
    }
   ],
   "source": [
    "class Foo(nnx.Pytree):\n",
    "  def __init__(self):\n",
    "    self.ls = []  # should be nnx.data([]), treated as static\n",
    "    for i in range(5):\n",
    "      self.ls.append(jnp.array(i))  # error: inserting arrays into static attribute\n",
    "\n",
    "try:\n",
    "  foo = Foo()  # nnx.check_pytree ran after __init__\n",
    "except ValueError as e:\n",
    "  print(\"ValueError:\", e)"
   ]
  },
  {
   "cell_type": "code",
   "execution_count": null,
   "id": "f9d69634",
   "metadata": {},
   "outputs": [
    {
     "name": "stdout",
     "output_type": "stream",
     "text": [
      "ValueError: Found unexpected tags {'data'} on attribute 'a'. Values from nnx.data(...) and\n",
      "nnx.static(...) should be assigned to nnx.Pytree attributes directly, they should not\n",
      "be stored inside lists, dicts, tuples, or any pytree type.\n"
     ]
    }
   ],
   "source": [
    "class Foo(nnx.Pytree):\n",
    "  def __init__(self):\n",
    "    self.a = [nnx.data(1), nnx.data(2)]  # annotations in sub-pytree\n",
    "\n",
    "try:\n",
    "  foo = Foo()\n",
    "except ValueError as e:\n",
    "  print(\"ValueError:\", e)"
   ]
  },
  {
   "cell_type": "markdown",
   "id": "452915ac",
   "metadata": {},
   "source": [
    "### Trace-level awareness"
   ]
  },
  {
   "cell_type": "code",
   "execution_count": null,
   "id": "668db479",
   "metadata": {},
   "outputs": [
    {
     "name": "stdout",
     "output_type": "stream",
     "text": [
      "Error: Cannot mutate 'Foo' from different trace level (https://flax.readthedocs.io/en/latest/api_reference/flax.errors.html#flax.errors.TraceContextError)\n"
     ]
    }
   ],
   "source": [
    "class Foo(nnx.Pytree):\n",
    "  def __init__(self):\n",
    "    self.count = nnx.data(0)\n",
    "\n",
    "foo = Foo()\n",
    "\n",
    "@jax.vmap  # or jit, grad, shard_map, pmap, scan, etc.\n",
    "def increment(n):\n",
    "  foo.count += 1\n",
    "\n",
    "try:\n",
    "  increment(jnp.arange(5))\n",
    "except Exception as e:\n",
    "  print(f\"Error: {e}\")"
   ]
  },
  {
   "cell_type": "markdown",
   "id": "bfaf17de",
   "metadata": {},
   "source": [
    "## Module"
   ]
  },
  {
   "cell_type": "markdown",
   "id": "bfba41f9",
   "metadata": {},
   "source": [
    "### set_attributes"
   ]
  },
  {
   "cell_type": "code",
   "execution_count": null,
   "id": "f26e0e69",
   "metadata": {},
   "outputs": [
    {
     "name": "stdout",
     "output_type": "stream",
     "text": [
      "train:\n",
      "- model.mode = 1\n",
      "- model.bn.use_running_average = False\n",
      "- model.dropout.deterministic = False\n",
      "eval:\n",
      "- model.mode = 2\n",
      "- model.bn.use_running_average = True\n",
      "- model.dropout.deterministic = True\n"
     ]
    }
   ],
   "source": [
    "class Block(nnx.Module):\n",
    "  def __init__(self, din: int, dout: int, rngs: nnx.Rngs):\n",
    "    self.mode = 1\n",
    "    self.linear = nnx.Linear(din, dout, rngs=rngs)\n",
    "    self.bn = nnx.BatchNorm(dout, rngs=rngs)\n",
    "    self.dropout = nnx.Dropout(0.1, rngs=rngs)\n",
    "\n",
    "  def __call__(self, x):\n",
    "    return nnx.relu(self.dropout(self.bn(self.linear(x))))\n",
    "  \n",
    "model = Block(din=1, dout=2, rngs=nnx.Rngs(0))\n",
    "\n",
    "print(\"train:\")\n",
    "print(f\"- {model.mode = }\")\n",
    "print(f\"- {model.bn.use_running_average = }\")\n",
    "print(f\"- {model.dropout.deterministic = }\")\n",
    "\n",
    "# Set attributes for evaluation\n",
    "model.set_attributes(deterministic=True, use_running_average=True, mode=2)\n",
    "\n",
    "print(\"eval:\")\n",
    "print(f\"- {model.mode = }\")\n",
    "print(f\"- {model.bn.use_running_average = }\")\n",
    "print(f\"- {model.dropout.deterministic = }\")"
   ]
  },
  {
   "cell_type": "code",
   "execution_count": null,
   "id": "a1a7dfff",
   "metadata": {},
   "outputs": [
    {
     "name": "stdout",
     "output_type": "stream",
     "text": [
      "eval:\n",
      "- model.mode = 2\n",
      "- model.bn.use_running_average = True\n",
      "- model.dropout.deterministic = True\n",
      "train:\n",
      "- model.mode = 1\n",
      "- model.bn.use_running_average = False\n",
      "- model.dropout.deterministic = False\n"
     ]
    }
   ],
   "source": [
    "model = Block(din=1, dout=2, rngs=nnx.Rngs(0))\n",
    "\n",
    "model.eval(mode=2)  # .set_attributes(deterministic=True, use_running_average=True, mode=2)\n",
    "print(\"eval:\")\n",
    "print(f\"- {model.mode = }\")\n",
    "print(f\"- {model.bn.use_running_average = }\")\n",
    "print(f\"- {model.dropout.deterministic = }\")\n",
    "\n",
    "model.train(mode=1)  # .set_attributes(deterministic=False, use_running_average=False, mode=1)\n",
    "print(\"train:\")\n",
    "print(f\"- {model.mode = }\")\n",
    "print(f\"- {model.bn.use_running_average = }\")\n",
    "print(f\"- {model.dropout.deterministic = }\")"
   ]
  },
  {
   "cell_type": "markdown",
   "id": "cc5afc70",
   "metadata": {},
   "source": [
    "### sow"
   ]
  },
  {
   "cell_type": "code",
   "execution_count": null,
   "id": "ca9f58a2",
   "metadata": {},
   "outputs": [
    {
     "name": "stdout",
     "output_type": "stream",
     "text": [
      "\u001b[38;2;79;201;177mState\u001b[0m\u001b[38;2;255;213;3m({\u001b[0m\u001b[38;2;105;105;105m\u001b[0m\n",
      "  \u001b[38;2;156;220;254m'blocks'\u001b[0m\u001b[38;2;212;212;212m: \u001b[0m\u001b[38;2;255;213;3m{\u001b[0m\u001b[38;2;105;105;105m\u001b[0m\n",
      "    \u001b[38;2;156;220;254m0\u001b[0m\u001b[38;2;212;212;212m: \u001b[0m\u001b[38;2;255;213;3m{\u001b[0m\u001b[38;2;105;105;105m\u001b[0m\n",
      "      \u001b[38;2;156;220;254m'y_mean'\u001b[0m\u001b[38;2;212;212;212m: \u001b[0m\u001b[38;2;79;201;177mIntermediate\u001b[0m\u001b[38;2;255;213;3m(\u001b[0m\u001b[38;2;105;105;105m # 1 (4 B)\u001b[0m\n",
      "        \u001b[38;2;156;220;254mvalue\u001b[0m\u001b[38;2;212;212;212m=\u001b[0m\u001b[38;2;255;213;3m(\u001b[0mArray(4.659754e-06, dtype=float32),\u001b[38;2;255;213;3m)\u001b[0m\n",
      "      \u001b[38;2;255;213;3m)\u001b[0m\n",
      "    \u001b[38;2;255;213;3m}\u001b[0m,\n",
      "    \u001b[38;2;156;220;254m1\u001b[0m\u001b[38;2;212;212;212m: \u001b[0m\u001b[38;2;255;213;3m{\u001b[0m\u001b[38;2;105;105;105m\u001b[0m\n",
      "      \u001b[38;2;156;220;254m'y_mean'\u001b[0m\u001b[38;2;212;212;212m: \u001b[0m\u001b[38;2;79;201;177mIntermediate\u001b[0m\u001b[38;2;255;213;3m(\u001b[0m\u001b[38;2;105;105;105m # 1 (4 B)\u001b[0m\n",
      "        \u001b[38;2;156;220;254mvalue\u001b[0m\u001b[38;2;212;212;212m=\u001b[0m\u001b[38;2;255;213;3m(\u001b[0mArray(0.00025933, dtype=float32),\u001b[38;2;255;213;3m)\u001b[0m\n",
      "      \u001b[38;2;255;213;3m)\u001b[0m\n",
      "    \u001b[38;2;255;213;3m}\u001b[0m,\n",
      "    \u001b[38;2;156;220;254m2\u001b[0m\u001b[38;2;212;212;212m: \u001b[0m\u001b[38;2;255;213;3m{\u001b[0m\u001b[38;2;105;105;105m\u001b[0m\n",
      "      \u001b[38;2;156;220;254m'y_mean'\u001b[0m\u001b[38;2;212;212;212m: \u001b[0m\u001b[38;2;79;201;177mIntermediate\u001b[0m\u001b[38;2;255;213;3m(\u001b[0m\u001b[38;2;105;105;105m # 1 (4 B)\u001b[0m\n",
      "        \u001b[38;2;156;220;254mvalue\u001b[0m\u001b[38;2;212;212;212m=\u001b[0m\u001b[38;2;255;213;3m(\u001b[0mArray(0.05561922, dtype=float32),\u001b[38;2;255;213;3m)\u001b[0m\n",
      "      \u001b[38;2;255;213;3m)\u001b[0m\n",
      "    \u001b[38;2;255;213;3m}\u001b[0m\n",
      "  \u001b[38;2;255;213;3m}\u001b[0m\n",
      "\u001b[38;2;255;213;3m})\u001b[0m\n"
     ]
    }
   ],
   "source": [
    "class Block(nnx.Module):\n",
    "  def __init__(self, din: int, dout: int, rngs: nnx.Rngs):\n",
    "    self.linear = nnx.Linear(din, dout, rngs=rngs)\n",
    "    self.bn = nnx.BatchNorm(dout, rngs=rngs)\n",
    "    self.dropout = nnx.Dropout(0.1, rngs=rngs)\n",
    "\n",
    "  def __call__(self, x):\n",
    "    y = nnx.relu(self.dropout(self.bn(self.linear(x))))\n",
    "    self.sow(nnx.Intermediate, \"y_mean\", jnp.mean(y))\n",
    "    return y\n",
    "\n",
    "class MLP(nnx.Module):\n",
    "  def __init__(self, num_layers, dim, rngs: nnx.Rngs):\n",
    "    self.blocks = nnx.data([Block(dim, dim, rngs) for _ in range(num_layers)])\n",
    "\n",
    "  def __call__(self, x):\n",
    "    for block in self.blocks:\n",
    "      x = block(x)\n",
    "    return x\n",
    "\n",
    "\n",
    "model = MLP(num_layers=3, dim=20, rngs=nnx.Rngs(0))\n",
    "x = jnp.ones((10, 20))\n",
    "y = model(x)\n",
    "intermediates = nnx.pop(model, nnx.Intermediate) # extract intermediate values\n",
    "print(intermediates)"
   ]
  }
 ],
 "metadata": {
  "jupytext": {
   "formats": "ipynb,md:myst"
  },
  "language_info": {
   "codemirror_mode": {
    "name": "ipython",
    "version": 3
   },
   "file_extension": ".py",
   "mimetype": "text/x-python",
   "name": "python",
   "nbconvert_exporter": "python",
   "pygments_lexer": "ipython3",
   "version": "3.11.9"
  }
 },
 "nbformat": 4,
 "nbformat_minor": 5
}
